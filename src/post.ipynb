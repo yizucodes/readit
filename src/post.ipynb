{
 "cells": [
  {
   "attachments": {},
   "cell_type": "markdown",
   "metadata": {},
   "source": [
    "USER * CREATES POSTS\n",
    "     * UPDATES POSTS\n",
    "     * VIEW POSTS \n",
    "     * DELETES POSTS\n",
    "     * READS POSTS\n",
    "    "
   ]
  },
  {
   "cell_type": "code",
   "execution_count": null,
   "metadata": {},
   "outputs": [],
   "source": [
    "import pymysql as msc"
   ]
  },
  {
   "cell_type": "code",
   "execution_count": null,
   "metadata": {},
   "outputs": [],
   "source": [
    "mydb = msc.connect(host = \"LocalHost\", \n",
    "                   user=f\"root\", \n",
    "                   passwd = f\"University@1\",\n",
    "                   db = \"readit\")"
   ]
  },
  {
   "cell_type": "code",
   "execution_count": null,
   "metadata": {},
   "outputs": [],
   "source": [
    "cursor = mydb.cursor()\n",
    "post_id_list = []"
   ]
  },
  {
   "cell_type": "code",
   "execution_count": null,
   "metadata": {},
   "outputs": [],
   "source": [
    "def create_post(userName, title, body):\n",
    "    cursor.execute(f\"CALL CUPost(NULL, '{userName}', '{title}', '{body}')\")\n",
    "    cursor.connection.commit()\n",
    "\n",
    "\n",
    "def update_post(id, userName, title, body):\n",
    "    cursor.execute(f\"CALL CUPost({id}, '{userName}', {title}, {body})\")\n",
    "    cursor.connection.commit()\n",
    "\n",
    "def mainPage():\n",
    "    cursor.execute(f\"select body, title, id from post\")\n",
    "    for i in cursor:\n",
    "        post_id_list.append(i[2])\n",
    "        print(\"--------------------------------------------------|\")\n",
    "        print(f\"Title: {i[1]}\")\n",
    "        print(\"--------------------------------------------------|\")\n",
    "        print(f\"Body:\\n{i[0]}\")\n",
    "        print(\"--------------------------------------------------|\")\n",
    "        print(f\"Post ID: {i[2]}\")\n",
    "        print(\"--------------------------------------------------|\\n\")\n"
   ]
  },
  {
   "cell_type": "code",
   "execution_count": null,
   "metadata": {},
   "outputs": [],
   "source": [
    "if __name__ == \"__main__\":\n",
    "    print(\"Printing overall posts: ...\")\n",
    "    mainPage()\n",
    "    user = \"amandasmith\"\n",
    "\n",
    "    while(True):\n",
    "        inp = int(input(\"1) Create a post \\n2) Display all the posts\\n3)Update a post \\n5)Exit\"))\n",
    "        if(inp == 1):\n",
    "            # user = \"amandasmith\"\n",
    "            title = input(\"Give it a title...common!\")\n",
    "            body = input(\"what do you want it to have?\")\n",
    "            create_post(user, title, body)\n",
    "            \n",
    "        elif (inp == 2):\n",
    "            print(\"\\nDisplaying Again: ....\\n\\n\")\n",
    "            mainPage()\n",
    "        elif (inp == 3):\n",
    "            print(\"\\ncurrent list:\\n\\n\")\n",
    "            mainPage()\n",
    "            opt = int(input(\"Which of the following do you want to change/ update?\"))\n",
    "            if opt not in post_id_list:\n",
    "                print(\"Invalid id request\")\n",
    "                continue\n",
    "            \n",
    "            titUp = input(\"What's the change in title? Write null if no changes!\")\n",
    "            bodUp = input(\"What's the change in body? Write null if no changes!\")\n",
    "            if(titUp.lower() != 'null'):\n",
    "                titUp = f\"'{titUp}'\"\n",
    "            if(bodUp.lower() != 'null'):\n",
    "                bodUp = f\"'{bodUp}'\"\n",
    "                # print(bodUp)\n",
    "            # print(titUp)\n",
    "            update_post(opt, user, titUp,bodUp)\n",
    "        elif(inp == 5):\n",
    "            break\n",
    "            \n",
    "\n"
   ]
  },
  {
   "cell_type": "code",
   "execution_count": null,
   "metadata": {},
   "outputs": [],
   "source": []
  }
 ],
 "metadata": {
  "kernelspec": {
   "display_name": "Python 3",
   "language": "python",
   "name": "python3"
  },
  "language_info": {
   "codemirror_mode": {
    "name": "ipython",
    "version": 3
   },
   "file_extension": ".py",
   "mimetype": "text/x-python",
   "name": "python",
   "nbconvert_exporter": "python",
   "pygments_lexer": "ipython3",
   "version": "3.11.0"
  },
  "orig_nbformat": 4
 },
 "nbformat": 4,
 "nbformat_minor": 2
}
