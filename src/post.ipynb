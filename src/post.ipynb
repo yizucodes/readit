{
 "cells": [
  {
   "attachments": {},
   "cell_type": "markdown",
   "metadata": {},
   "source": [
    "USER * CREATES POSTS\n",
    "     * UPDATES POSTS\n",
    "     * VIEW POSTS \n",
    "     * DELETES POSTS\n",
    "     * READS POSTS\n",
    "    "
   ]
  },
  {
   "cell_type": "code",
   "execution_count": 16,
   "metadata": {},
   "outputs": [],
   "source": [
    "import pymysql as msc"
   ]
  },
  {
   "cell_type": "code",
   "execution_count": 17,
   "metadata": {},
   "outputs": [],
   "source": [
    "mydb = msc.connect(host = \"LocalHost\", \n",
    "                   user=f\"root\", \n",
    "                   passwd = f\"University@1\",\n",
    "                   db = \"readit\")"
   ]
  },
  {
   "cell_type": "code",
   "execution_count": 18,
   "metadata": {},
   "outputs": [],
   "source": [
    "cursor = mydb.cursor()\n",
    "post_id_list = []"
   ]
  },
  {
   "cell_type": "code",
   "execution_count": 19,
   "metadata": {},
   "outputs": [],
   "source": [
    "def create_post(userName, title, body):\n",
    "    cursor.execute(f\"CALL CUPost(NULL, '{userName}', '{title}', '{body}')\")\n",
    "    cursor.connection.commit()\n",
    "\n",
    "\n",
    "def update_post(id, userName, title, body):\n",
    "    cursor.execute(f\"CALL CUPost({id}, '{userName}', {title}, {body})\")\n",
    "    cursor.connection.commit()\n",
    "\n",
    "def delete_post(id, user):\n",
    "    cursor.execute(f\"CALL delete_post({id}, '{user}')\")\n",
    "    cursor.connection.commit()\n",
    "def upvote(user, id):\n",
    "    cursor.execute(f\"CALL user_votes_post('{user}', {id})\")\n",
    "    cursor.connection.commit()\n",
    "def mainPage():\n",
    "    cursor.execute(f\"select post.body, post.title, post.id, COUNT(upv.postId) as votes from uservotepostlink as upv RIGHT JOIN post ON post.id = upv.postId GROUP BY post.id;\")\n",
    "    for i in cursor:\n",
    "        post_id_list.append(i[2])\n",
    "        print(\"--------------------------------------------------|\")\n",
    "        print(f\"Title: {i[1]}\")\n",
    "        print(\"--------------------------------------------------|\")\n",
    "        print(f\"{i[0]}\")\n",
    "        print(\"--------------------------------------------------|\")\n",
    "        print(f\"Post ID: {i[2]}.................{i[3]}\")\n",
    "        print(\"--------------------------------------------------|\\n\")\n"
   ]
  },
  {
   "cell_type": "code",
   "execution_count": 20,
   "metadata": {},
   "outputs": [
    {
     "name": "stdout",
     "output_type": "stream",
     "text": [
      "Printing overall posts: ...\n",
      "--------------------------------------------------|\n",
      "Title: NOt a great title\n",
      "--------------------------------------------------|\n",
      "tititit\n",
      "--------------------------------------------------|\n",
      "Post ID: 3.................0\n",
      "--------------------------------------------------|\n",
      "\n",
      "--------------------------------------------------|\n",
      "Title: C\n",
      "--------------------------------------------------|\n",
      "Hirrag\n",
      "--------------------------------------------------|\n",
      "Post ID: 8.................0\n",
      "--------------------------------------------------|\n",
      "\n",
      "--------------------------------------------------|\n",
      "Title: Chirag\n",
      "--------------------------------------------------|\n",
      "Vegita, Prince of all Sayians\n",
      "--------------------------------------------------|\n",
      "Post ID: 11.................0\n",
      "--------------------------------------------------|\n",
      "\n",
      "--------------------------------------------------|\n",
      "Title: Go for it\n",
      "--------------------------------------------------|\n",
      "If its difficult and its worth chasing, you better give your best and be the person you always meant to be. \n",
      "--------------------------------------------------|\n",
      "Post ID: 12.................2\n",
      "--------------------------------------------------|\n",
      "\n"
     ]
    }
   ],
   "source": [
    "if __name__ == \"__main__\":\n",
    "    print(\"Printing overall posts: ...\")\n",
    "    mainPage()\n",
    "    # user = \"amandasmith\"\n",
    "    user = \"chrisbrown\"\n",
    "\n",
    "    while(True):\n",
    "        inp = int(input(\"1) Create a post \\n2) Display all the posts\\n3)Update a post\\n4)Delete Post\\n5)Upvote a post \\n10)Exit\"))\n",
    "        if(inp == 1):\n",
    "            # user = \"amandasmith\"\n",
    "            title = input(\"Give it a title...common!\")\n",
    "            body = input(\"what do you want it to have?\")\n",
    "            create_post(user, title, body)\n",
    "            \n",
    "        elif (inp == 2):\n",
    "            print(\"\\nDisplaying Again: ....\\n\\n\")\n",
    "            mainPage()\n",
    "        elif (inp == 3):\n",
    "            print(\"\\ncurrent list:\\n\\n\")\n",
    "            mainPage()\n",
    "            opt = int(input(\"Which of the following do you want to change/ update?\"))\n",
    "            if opt not in post_id_list:\n",
    "                print(\"Invalid id request\")\n",
    "                continue\n",
    "            \n",
    "            titUp = input(\"What's the change in title? Write null if no changes!\")\n",
    "            bodUp = input(\"What's the change in body? Write null if no changes!\")\n",
    "            if(titUp.lower() != 'null'):\n",
    "                titUp = f\"'{titUp}'\"\n",
    "            if(bodUp.lower() != 'null'):\n",
    "                bodUp = f\"'{bodUp}'\"\n",
    "                # print(bodUp)\n",
    "            # print(titUp)\n",
    "            try:    \n",
    "                update_post(opt, user, titUp,bodUp)\n",
    "            except:\n",
    "                print(\"Cannot update someone else's post!...\")\n",
    "        elif(inp == 4):\n",
    "            dele = int(input(\"Which post do you want to delete? Note: you can only delete your posts!\"))\n",
    "            try:\n",
    "                delete_post(dele, user)\n",
    "            except:\n",
    "                print(\"Invalid delete attempt!\")\n",
    "                continue\n",
    "        elif(inp == 5):\n",
    "            vote = int(input(\"Enter the post ID to upvote!: \"))\n",
    "            print(\"Checking if the vote is valid.....\")\n",
    "            try:\n",
    "                upvote(user, vote)\n",
    "            except:\n",
    "                print(\"Already upvoted the post...cannot upvote again!...\")\n",
    "            \n",
    "        elif(inp == 10):\n",
    "            break\n",
    "        else:\n",
    "            print(\"Invalid Option selected!\")\n",
    "            \n",
    "\n"
   ]
  },
  {
   "cell_type": "code",
   "execution_count": null,
   "metadata": {},
   "outputs": [],
   "source": []
  }
 ],
 "metadata": {
  "kernelspec": {
   "display_name": "Python 3",
   "language": "python",
   "name": "python3"
  },
  "language_info": {
   "codemirror_mode": {
    "name": "ipython",
    "version": 3
   },
   "file_extension": ".py",
   "mimetype": "text/x-python",
   "name": "python",
   "nbconvert_exporter": "python",
   "pygments_lexer": "ipython3",
   "version": "3.11.0"
  },
  "orig_nbformat": 4
 },
 "nbformat": 4,
 "nbformat_minor": 2
}
